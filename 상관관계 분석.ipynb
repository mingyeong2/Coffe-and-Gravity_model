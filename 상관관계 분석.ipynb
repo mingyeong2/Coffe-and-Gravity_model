{
 "cells": [
  {
   "cell_type": "code",
   "execution_count": 1,
   "metadata": {},
   "outputs": [],
   "source": [
    "import pandas as pd\n",
    "import numpy as np"
   ]
  },
  {
   "cell_type": "code",
   "execution_count": 3,
   "metadata": {},
   "outputs": [],
   "source": [
    "data = pd.read_csv('with_log_concat1.csv', encoding = 'utf-8')"
   ]
  },
  {
   "cell_type": "code",
   "execution_count": 8,
   "metadata": {},
   "outputs": [],
   "source": [
    "data = data[['log_Q','log_exp_gdp','log_imp_gdp','log_dist']]"
   ]
  },
  {
   "cell_type": "code",
   "execution_count": 9,
   "metadata": {},
   "outputs": [
    {
     "data": {
      "text/html": [
       "<div>\n",
       "<style scoped>\n",
       "    .dataframe tbody tr th:only-of-type {\n",
       "        vertical-align: middle;\n",
       "    }\n",
       "\n",
       "    .dataframe tbody tr th {\n",
       "        vertical-align: top;\n",
       "    }\n",
       "\n",
       "    .dataframe thead th {\n",
       "        text-align: right;\n",
       "    }\n",
       "</style>\n",
       "<table border=\"1\" class=\"dataframe\">\n",
       "  <thead>\n",
       "    <tr style=\"text-align: right;\">\n",
       "      <th></th>\n",
       "      <th>log_Q</th>\n",
       "      <th>log_exp_gdp</th>\n",
       "      <th>log_imp_gdp</th>\n",
       "      <th>log_dist</th>\n",
       "    </tr>\n",
       "  </thead>\n",
       "  <tbody>\n",
       "    <tr>\n",
       "      <th>log_Q</th>\n",
       "      <td>1.000000</td>\n",
       "      <td>-0.078099</td>\n",
       "      <td>0.267707</td>\n",
       "      <td>0.197701</td>\n",
       "    </tr>\n",
       "    <tr>\n",
       "      <th>log_exp_gdp</th>\n",
       "      <td>-0.078099</td>\n",
       "      <td>1.000000</td>\n",
       "      <td>-0.035548</td>\n",
       "      <td>-0.091032</td>\n",
       "    </tr>\n",
       "    <tr>\n",
       "      <th>log_imp_gdp</th>\n",
       "      <td>0.267707</td>\n",
       "      <td>-0.035548</td>\n",
       "      <td>1.000000</td>\n",
       "      <td>0.232474</td>\n",
       "    </tr>\n",
       "    <tr>\n",
       "      <th>log_dist</th>\n",
       "      <td>0.197701</td>\n",
       "      <td>-0.091032</td>\n",
       "      <td>0.232474</td>\n",
       "      <td>1.000000</td>\n",
       "    </tr>\n",
       "  </tbody>\n",
       "</table>\n",
       "</div>"
      ],
      "text/plain": [
       "                log_Q  log_exp_gdp  log_imp_gdp  log_dist\n",
       "log_Q        1.000000    -0.078099     0.267707  0.197701\n",
       "log_exp_gdp -0.078099     1.000000    -0.035548 -0.091032\n",
       "log_imp_gdp  0.267707    -0.035548     1.000000  0.232474\n",
       "log_dist     0.197701    -0.091032     0.232474  1.000000"
      ]
     },
     "execution_count": 9,
     "metadata": {},
     "output_type": "execute_result"
    }
   ],
   "source": [
    "data.corr()"
   ]
  },
  {
   "cell_type": "code",
   "execution_count": null,
   "metadata": {},
   "outputs": [],
   "source": []
  }
 ],
 "metadata": {
  "kernelspec": {
   "display_name": "Python 3",
   "language": "python",
   "name": "python3"
  },
  "language_info": {
   "codemirror_mode": {
    "name": "ipython",
    "version": 3
   },
   "file_extension": ".py",
   "mimetype": "text/x-python",
   "name": "python",
   "nbconvert_exporter": "python",
   "pygments_lexer": "ipython3",
   "version": "3.7.1"
  }
 },
 "nbformat": 4,
 "nbformat_minor": 2
}
