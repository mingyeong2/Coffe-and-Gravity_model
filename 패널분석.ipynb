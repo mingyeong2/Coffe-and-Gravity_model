{
 "cells": [
  {
   "cell_type": "code",
   "execution_count": 1,
   "metadata": {},
   "outputs": [],
   "source": [
    "import pandas as pd\n",
    "import numpy as np"
   ]
  },
  {
   "cell_type": "markdown",
   "metadata": {},
   "source": [
    "#### read data"
   ]
  },
  {
   "cell_type": "code",
   "execution_count": 2,
   "metadata": {},
   "outputs": [],
   "source": [
    "data = pd.read_csv('with_log_concat1.csv', encoding = 'utf-8')"
   ]
  },
  {
   "cell_type": "code",
   "execution_count": 13,
   "metadata": {},
   "outputs": [],
   "source": [
    "data = data.drop(columns = ['Unnamed: 0'])"
   ]
  },
  {
   "cell_type": "markdown",
   "metadata": {},
   "source": [
    "## Regression analysis by country"
   ]
  },
  {
   "cell_type": "code",
   "execution_count": 52,
   "metadata": {},
   "outputs": [],
   "source": [
    "def multiple(Data, summ = True, write = False):\n",
    "    import numpy as np\n",
    "    import pandas as pd\n",
    "    \n",
    "    X = Data[['distw','exp_gdp','imp_gdp']].values\n",
    "    Y = Data['TradeQuantity'].values\n",
    "    \n",
    "#     import statsmodels.api as sm\n",
    "    import statsmodels.formula.api as smf\n",
    "#     X = sm.add_constant(X)\n",
    "    model11 = smf.ols('TradeQuantity ~ distw + exp_gdp + imp_gdp', data=Data).fit()\n",
    "\n",
    "    \n",
    "    ctr = Data.exporter.drop_duplicates().values[0]\n",
    "    if write:\n",
    "        text_file = open(\"Output {}.txt\".format(ctr), \"w\")\n",
    "        text_file.write(model11.summary().as_text())\n",
    "        text_file.close()\n",
    "    \n",
    "    if summ:\n",
    "        return model11.summary()\n",
    "    else:\n",
    "        return model11"
   ]
  },
  {
   "cell_type": "code",
   "execution_count": null,
   "metadata": {},
   "outputs": [],
   "source": []
  },
  {
   "cell_type": "markdown",
   "metadata": {},
   "source": [
    "#### countries having data more than 30"
   ]
  },
  {
   "cell_type": "code",
   "execution_count": 14,
   "metadata": {},
   "outputs": [],
   "source": [
    "groups = data.groupby(data.exporter)"
   ]
  },
  {
   "cell_type": "code",
   "execution_count": 15,
   "metadata": {},
   "outputs": [],
   "source": [
    "count = groups.count()"
   ]
  },
  {
   "cell_type": "code",
   "execution_count": 16,
   "metadata": {},
   "outputs": [
    {
     "name": "stdout",
     "output_type": "stream",
     "text": [
      "The number of countries with observations less than 30 is \"60\"\n",
      "More than 30 is 99\n"
     ]
    }
   ],
   "source": [
    "print('The number of countries with observations less than 30 is \"{}\"'.format(count[count['year'] < 30].shape[0]))\n",
    "print('More than 30 is {}'.format(count[count['year'] >= 30].shape[0]))"
   ]
  },
  {
   "cell_type": "code",
   "execution_count": 17,
   "metadata": {},
   "outputs": [],
   "source": [
    "big_ctr = count[count['year'] >= 30].index.tolist()"
   ]
  },
  {
   "cell_type": "code",
   "execution_count": 18,
   "metadata": {},
   "outputs": [],
   "source": [
    "big_data = data[data['exporter'].isin(big_ctr)]"
   ]
  },
  {
   "cell_type": "markdown",
   "metadata": {},
   "source": [
    "### Example: Brazil, India, Italy"
   ]
  },
  {
   "cell_type": "code",
   "execution_count": 29,
   "metadata": {},
   "outputs": [],
   "source": [
    "brazil = data[data['exporter'] == 'BRA']\n",
    "india= data[data['exporter'] == 'IND']\n",
    "italy = data[data['exporter'] == 'ITA']"
   ]
  },
  {
   "cell_type": "markdown",
   "metadata": {},
   "source": [
    "#### Brazil"
   ]
  },
  {
   "cell_type": "code",
   "execution_count": 53,
   "metadata": {},
   "outputs": [
    {
     "name": "stdout",
     "output_type": "stream",
     "text": [
      "### Result for Brazil\n"
     ]
    },
    {
     "data": {
      "text/html": [
       "<table class=\"simpletable\">\n",
       "<caption>OLS Regression Results</caption>\n",
       "<tr>\n",
       "  <th>Dep. Variable:</th>      <td>TradeQuantity</td>  <th>  R-squared:         </th> <td>   0.545</td> \n",
       "</tr>\n",
       "<tr>\n",
       "  <th>Model:</th>                   <td>OLS</td>       <th>  Adj. R-squared:    </th> <td>   0.544</td> \n",
       "</tr>\n",
       "<tr>\n",
       "  <th>Method:</th>             <td>Least Squares</td>  <th>  F-statistic:       </th> <td>   640.0</td> \n",
       "</tr>\n",
       "<tr>\n",
       "  <th>Date:</th>             <td>Tue, 26 Mar 2019</td> <th>  Prob (F-statistic):</th> <td>2.43e-273</td>\n",
       "</tr>\n",
       "<tr>\n",
       "  <th>Time:</th>                 <td>15:11:34</td>     <th>  Log-Likelihood:    </th> <td> -30140.</td> \n",
       "</tr>\n",
       "<tr>\n",
       "  <th>No. Observations:</th>      <td>  1605</td>      <th>  AIC:               </th> <td>6.029e+04</td>\n",
       "</tr>\n",
       "<tr>\n",
       "  <th>Df Residuals:</th>          <td>  1601</td>      <th>  BIC:               </th> <td>6.031e+04</td>\n",
       "</tr>\n",
       "<tr>\n",
       "  <th>Df Model:</th>              <td>     3</td>      <th>                     </th>     <td> </td>    \n",
       "</tr>\n",
       "<tr>\n",
       "  <th>Covariance Type:</th>      <td>nonrobust</td>    <th>                     </th>     <td> </td>    \n",
       "</tr>\n",
       "</table>\n",
       "<table class=\"simpletable\">\n",
       "<tr>\n",
       "      <td></td>         <th>coef</th>     <th>std err</th>      <th>t</th>      <th>P>|t|</th>  <th>[0.025</th>    <th>0.975]</th>  \n",
       "</tr>\n",
       "<tr>\n",
       "  <th>Intercept</th> <td> 2.281e+07</td> <td> 2.87e+06</td> <td>    7.939</td> <td> 0.000</td> <td> 1.72e+07</td> <td> 2.85e+07</td>\n",
       "</tr>\n",
       "<tr>\n",
       "  <th>distw</th>     <td>-1389.8471</td> <td>  239.446</td> <td>   -5.804</td> <td> 0.000</td> <td>-1859.508</td> <td> -920.186</td>\n",
       "</tr>\n",
       "<tr>\n",
       "  <th>exp_gdp</th>   <td>-2.295e-06</td> <td> 1.22e-06</td> <td>   -1.877</td> <td> 0.061</td> <td>-4.69e-06</td> <td> 1.04e-07</td>\n",
       "</tr>\n",
       "<tr>\n",
       "  <th>imp_gdp</th>   <td> 2.176e-05</td> <td> 4.97e-07</td> <td>   43.743</td> <td> 0.000</td> <td> 2.08e-05</td> <td> 2.27e-05</td>\n",
       "</tr>\n",
       "</table>\n",
       "<table class=\"simpletable\">\n",
       "<tr>\n",
       "  <th>Omnibus:</th>       <td>1370.007</td> <th>  Durbin-Watson:     </th> <td>   1.927</td> \n",
       "</tr>\n",
       "<tr>\n",
       "  <th>Prob(Omnibus):</th>  <td> 0.000</td>  <th>  Jarque-Bera (JB):  </th> <td>69002.765</td>\n",
       "</tr>\n",
       "<tr>\n",
       "  <th>Skew:</th>           <td> 3.689</td>  <th>  Prob(JB):          </th> <td>    0.00</td> \n",
       "</tr>\n",
       "<tr>\n",
       "  <th>Kurtosis:</th>       <td>34.263</td>  <th>  Cond. No.          </th> <td>6.58e+12</td> \n",
       "</tr>\n",
       "</table><br/><br/>Warnings:<br/>[1] Standard Errors assume that the covariance matrix of the errors is correctly specified.<br/>[2] The condition number is large, 6.58e+12. This might indicate that there are<br/>strong multicollinearity or other numerical problems."
      ],
      "text/plain": [
       "<class 'statsmodels.iolib.summary.Summary'>\n",
       "\"\"\"\n",
       "                            OLS Regression Results                            \n",
       "==============================================================================\n",
       "Dep. Variable:          TradeQuantity   R-squared:                       0.545\n",
       "Model:                            OLS   Adj. R-squared:                  0.544\n",
       "Method:                 Least Squares   F-statistic:                     640.0\n",
       "Date:                Tue, 26 Mar 2019   Prob (F-statistic):          2.43e-273\n",
       "Time:                        15:11:34   Log-Likelihood:                -30140.\n",
       "No. Observations:                1605   AIC:                         6.029e+04\n",
       "Df Residuals:                    1601   BIC:                         6.031e+04\n",
       "Df Model:                           3                                         \n",
       "Covariance Type:            nonrobust                                         \n",
       "==============================================================================\n",
       "                 coef    std err          t      P>|t|      [0.025      0.975]\n",
       "------------------------------------------------------------------------------\n",
       "Intercept   2.281e+07   2.87e+06      7.939      0.000    1.72e+07    2.85e+07\n",
       "distw      -1389.8471    239.446     -5.804      0.000   -1859.508    -920.186\n",
       "exp_gdp    -2.295e-06   1.22e-06     -1.877      0.061   -4.69e-06    1.04e-07\n",
       "imp_gdp     2.176e-05   4.97e-07     43.743      0.000    2.08e-05    2.27e-05\n",
       "==============================================================================\n",
       "Omnibus:                     1370.007   Durbin-Watson:                   1.927\n",
       "Prob(Omnibus):                  0.000   Jarque-Bera (JB):            69002.765\n",
       "Skew:                           3.689   Prob(JB):                         0.00\n",
       "Kurtosis:                      34.263   Cond. No.                     6.58e+12\n",
       "==============================================================================\n",
       "\n",
       "Warnings:\n",
       "[1] Standard Errors assume that the covariance matrix of the errors is correctly specified.\n",
       "[2] The condition number is large, 6.58e+12. This might indicate that there are\n",
       "strong multicollinearity or other numerical problems.\n",
       "\"\"\""
      ]
     },
     "execution_count": 53,
     "metadata": {},
     "output_type": "execute_result"
    }
   ],
   "source": [
    "print('### Result for Brazil')\n",
    "result_brazil = multiple(brazil, False)\n",
    "result_brazil.summary()"
   ]
  },
  {
   "cell_type": "code",
   "execution_count": 54,
   "metadata": {},
   "outputs": [
    {
     "name": "stdout",
     "output_type": "stream",
     "text": [
      "### Result for India\n"
     ]
    },
    {
     "data": {
      "text/html": [
       "<table class=\"simpletable\">\n",
       "<caption>OLS Regression Results</caption>\n",
       "<tr>\n",
       "  <th>Dep. Variable:</th>      <td>TradeQuantity</td>  <th>  R-squared:         </th> <td>   0.051</td> \n",
       "</tr>\n",
       "<tr>\n",
       "  <th>Model:</th>                   <td>OLS</td>       <th>  Adj. R-squared:    </th> <td>   0.049</td> \n",
       "</tr>\n",
       "<tr>\n",
       "  <th>Method:</th>             <td>Least Squares</td>  <th>  F-statistic:       </th> <td>   27.24</td> \n",
       "</tr>\n",
       "<tr>\n",
       "  <th>Date:</th>             <td>Tue, 26 Mar 2019</td> <th>  Prob (F-statistic):</th> <td>3.70e-17</td> \n",
       "</tr>\n",
       "<tr>\n",
       "  <th>Time:</th>                 <td>15:11:39</td>     <th>  Log-Likelihood:    </th> <td> -26281.</td> \n",
       "</tr>\n",
       "<tr>\n",
       "  <th>No. Observations:</th>      <td>  1532</td>      <th>  AIC:               </th> <td>5.257e+04</td>\n",
       "</tr>\n",
       "<tr>\n",
       "  <th>Df Residuals:</th>          <td>  1528</td>      <th>  BIC:               </th> <td>5.259e+04</td>\n",
       "</tr>\n",
       "<tr>\n",
       "  <th>Df Model:</th>              <td>     3</td>      <th>                     </th>     <td> </td>    \n",
       "</tr>\n",
       "<tr>\n",
       "  <th>Covariance Type:</th>      <td>nonrobust</td>    <th>                     </th>     <td> </td>    \n",
       "</tr>\n",
       "</table>\n",
       "<table class=\"simpletable\">\n",
       "<tr>\n",
       "      <td></td>         <th>coef</th>     <th>std err</th>      <th>t</th>      <th>P>|t|</th>  <th>[0.025</th>    <th>0.975]</th>  \n",
       "</tr>\n",
       "<tr>\n",
       "  <th>Intercept</th> <td> 1.485e+06</td> <td> 4.93e+05</td> <td>    3.015</td> <td> 0.003</td> <td> 5.19e+05</td> <td> 2.45e+06</td>\n",
       "</tr>\n",
       "<tr>\n",
       "  <th>distw</th>     <td>   70.5487</td> <td>   65.658</td> <td>    1.074</td> <td> 0.283</td> <td>  -58.241</td> <td>  199.338</td>\n",
       "</tr>\n",
       "<tr>\n",
       "  <th>exp_gdp</th>   <td> 1.208e-07</td> <td> 2.79e-07</td> <td>    0.433</td> <td> 0.665</td> <td>-4.27e-07</td> <td> 6.68e-07</td>\n",
       "</tr>\n",
       "<tr>\n",
       "  <th>imp_gdp</th>   <td> 8.395e-07</td> <td> 1.05e-07</td> <td>    8.020</td> <td> 0.000</td> <td> 6.34e-07</td> <td> 1.04e-06</td>\n",
       "</tr>\n",
       "</table>\n",
       "<table class=\"simpletable\">\n",
       "<tr>\n",
       "  <th>Omnibus:</th>       <td>1778.250</td> <th>  Durbin-Watson:     </th>  <td>   2.054</td> \n",
       "</tr>\n",
       "<tr>\n",
       "  <th>Prob(Omnibus):</th>  <td> 0.000</td>  <th>  Jarque-Bera (JB):  </th> <td>150115.282</td>\n",
       "</tr>\n",
       "<tr>\n",
       "  <th>Skew:</th>           <td> 5.991</td>  <th>  Prob(JB):          </th>  <td>    0.00</td> \n",
       "</tr>\n",
       "<tr>\n",
       "  <th>Kurtosis:</th>       <td>49.990</td>  <th>  Cond. No.          </th>  <td>5.48e+12</td> \n",
       "</tr>\n",
       "</table><br/><br/>Warnings:<br/>[1] Standard Errors assume that the covariance matrix of the errors is correctly specified.<br/>[2] The condition number is large, 5.48e+12. This might indicate that there are<br/>strong multicollinearity or other numerical problems."
      ],
      "text/plain": [
       "<class 'statsmodels.iolib.summary.Summary'>\n",
       "\"\"\"\n",
       "                            OLS Regression Results                            \n",
       "==============================================================================\n",
       "Dep. Variable:          TradeQuantity   R-squared:                       0.051\n",
       "Model:                            OLS   Adj. R-squared:                  0.049\n",
       "Method:                 Least Squares   F-statistic:                     27.24\n",
       "Date:                Tue, 26 Mar 2019   Prob (F-statistic):           3.70e-17\n",
       "Time:                        15:11:39   Log-Likelihood:                -26281.\n",
       "No. Observations:                1532   AIC:                         5.257e+04\n",
       "Df Residuals:                    1528   BIC:                         5.259e+04\n",
       "Df Model:                           3                                         \n",
       "Covariance Type:            nonrobust                                         \n",
       "==============================================================================\n",
       "                 coef    std err          t      P>|t|      [0.025      0.975]\n",
       "------------------------------------------------------------------------------\n",
       "Intercept   1.485e+06   4.93e+05      3.015      0.003    5.19e+05    2.45e+06\n",
       "distw         70.5487     65.658      1.074      0.283     -58.241     199.338\n",
       "exp_gdp     1.208e-07   2.79e-07      0.433      0.665   -4.27e-07    6.68e-07\n",
       "imp_gdp     8.395e-07   1.05e-07      8.020      0.000    6.34e-07    1.04e-06\n",
       "==============================================================================\n",
       "Omnibus:                     1778.250   Durbin-Watson:                   2.054\n",
       "Prob(Omnibus):                  0.000   Jarque-Bera (JB):           150115.282\n",
       "Skew:                           5.991   Prob(JB):                         0.00\n",
       "Kurtosis:                      49.990   Cond. No.                     5.48e+12\n",
       "==============================================================================\n",
       "\n",
       "Warnings:\n",
       "[1] Standard Errors assume that the covariance matrix of the errors is correctly specified.\n",
       "[2] The condition number is large, 5.48e+12. This might indicate that there are\n",
       "strong multicollinearity or other numerical problems.\n",
       "\"\"\""
      ]
     },
     "execution_count": 54,
     "metadata": {},
     "output_type": "execute_result"
    }
   ],
   "source": [
    "print('### Result for India')\n",
    "result_india = multiple(india, False)\n",
    "result_india.summary()"
   ]
  },
  {
   "cell_type": "code",
   "execution_count": 55,
   "metadata": {},
   "outputs": [
    {
     "name": "stdout",
     "output_type": "stream",
     "text": [
      "### Result for Italy\n"
     ]
    },
    {
     "data": {
      "text/html": [
       "<table class=\"simpletable\">\n",
       "<caption>OLS Regression Results</caption>\n",
       "<tr>\n",
       "  <th>Dep. Variable:</th>      <td>TradeQuantity</td>  <th>  R-squared:         </th> <td>   0.040</td> \n",
       "</tr>\n",
       "<tr>\n",
       "  <th>Model:</th>                   <td>OLS</td>       <th>  Adj. R-squared:    </th> <td>   0.038</td> \n",
       "</tr>\n",
       "<tr>\n",
       "  <th>Method:</th>             <td>Least Squares</td>  <th>  F-statistic:       </th> <td>   20.07</td> \n",
       "</tr>\n",
       "<tr>\n",
       "  <th>Date:</th>             <td>Tue, 26 Mar 2019</td> <th>  Prob (F-statistic):</th> <td>9.55e-13</td> \n",
       "</tr>\n",
       "<tr>\n",
       "  <th>Time:</th>                 <td>15:11:41</td>     <th>  Log-Likelihood:    </th> <td> -20294.</td> \n",
       "</tr>\n",
       "<tr>\n",
       "  <th>No. Observations:</th>      <td>  1440</td>      <th>  AIC:               </th> <td>4.060e+04</td>\n",
       "</tr>\n",
       "<tr>\n",
       "  <th>Df Residuals:</th>          <td>  1436</td>      <th>  BIC:               </th> <td>4.062e+04</td>\n",
       "</tr>\n",
       "<tr>\n",
       "  <th>Df Model:</th>              <td>     3</td>      <th>                     </th>     <td> </td>    \n",
       "</tr>\n",
       "<tr>\n",
       "  <th>Covariance Type:</th>      <td>nonrobust</td>    <th>                     </th>     <td> </td>    \n",
       "</tr>\n",
       "</table>\n",
       "<table class=\"simpletable\">\n",
       "<tr>\n",
       "      <td></td>         <th>coef</th>     <th>std err</th>      <th>t</th>      <th>P>|t|</th>  <th>[0.025</th>    <th>0.975]</th>  \n",
       "</tr>\n",
       "<tr>\n",
       "  <th>Intercept</th> <td> 1.169e+05</td> <td> 3.72e+04</td> <td>    3.140</td> <td> 0.002</td> <td> 4.39e+04</td> <td>  1.9e+05</td>\n",
       "</tr>\n",
       "<tr>\n",
       "  <th>distw</th>     <td>  -13.7248</td> <td>    2.101</td> <td>   -6.534</td> <td> 0.000</td> <td>  -17.845</td> <td>   -9.604</td>\n",
       "</tr>\n",
       "<tr>\n",
       "  <th>exp_gdp</th>   <td> 4.364e-09</td> <td> 1.97e-08</td> <td>    0.221</td> <td> 0.825</td> <td>-3.43e-08</td> <td>  4.3e-08</td>\n",
       "</tr>\n",
       "<tr>\n",
       "  <th>imp_gdp</th>   <td> 2.452e-08</td> <td>  4.7e-09</td> <td>    5.221</td> <td> 0.000</td> <td> 1.53e-08</td> <td> 3.37e-08</td>\n",
       "</tr>\n",
       "</table>\n",
       "<table class=\"simpletable\">\n",
       "<tr>\n",
       "  <th>Omnibus:</th>       <td>2317.191</td> <th>  Durbin-Watson:     </th>  <td>   2.015</td>  \n",
       "</tr>\n",
       "<tr>\n",
       "  <th>Prob(Omnibus):</th>  <td> 0.000</td>  <th>  Jarque-Bera (JB):  </th> <td>1173229.332</td>\n",
       "</tr>\n",
       "<tr>\n",
       "  <th>Skew:</th>           <td>10.152</td>  <th>  Prob(JB):          </th>  <td>    0.00</td>  \n",
       "</tr>\n",
       "<tr>\n",
       "  <th>Kurtosis:</th>       <td>141.353</td> <th>  Cond. No.          </th>  <td>9.69e+12</td>  \n",
       "</tr>\n",
       "</table><br/><br/>Warnings:<br/>[1] Standard Errors assume that the covariance matrix of the errors is correctly specified.<br/>[2] The condition number is large, 9.69e+12. This might indicate that there are<br/>strong multicollinearity or other numerical problems."
      ],
      "text/plain": [
       "<class 'statsmodels.iolib.summary.Summary'>\n",
       "\"\"\"\n",
       "                            OLS Regression Results                            \n",
       "==============================================================================\n",
       "Dep. Variable:          TradeQuantity   R-squared:                       0.040\n",
       "Model:                            OLS   Adj. R-squared:                  0.038\n",
       "Method:                 Least Squares   F-statistic:                     20.07\n",
       "Date:                Tue, 26 Mar 2019   Prob (F-statistic):           9.55e-13\n",
       "Time:                        15:11:41   Log-Likelihood:                -20294.\n",
       "No. Observations:                1440   AIC:                         4.060e+04\n",
       "Df Residuals:                    1436   BIC:                         4.062e+04\n",
       "Df Model:                           3                                         \n",
       "Covariance Type:            nonrobust                                         \n",
       "==============================================================================\n",
       "                 coef    std err          t      P>|t|      [0.025      0.975]\n",
       "------------------------------------------------------------------------------\n",
       "Intercept   1.169e+05   3.72e+04      3.140      0.002    4.39e+04     1.9e+05\n",
       "distw        -13.7248      2.101     -6.534      0.000     -17.845      -9.604\n",
       "exp_gdp     4.364e-09   1.97e-08      0.221      0.825   -3.43e-08     4.3e-08\n",
       "imp_gdp     2.452e-08    4.7e-09      5.221      0.000    1.53e-08    3.37e-08\n",
       "==============================================================================\n",
       "Omnibus:                     2317.191   Durbin-Watson:                   2.015\n",
       "Prob(Omnibus):                  0.000   Jarque-Bera (JB):          1173229.332\n",
       "Skew:                          10.152   Prob(JB):                         0.00\n",
       "Kurtosis:                     141.353   Cond. No.                     9.69e+12\n",
       "==============================================================================\n",
       "\n",
       "Warnings:\n",
       "[1] Standard Errors assume that the covariance matrix of the errors is correctly specified.\n",
       "[2] The condition number is large, 9.69e+12. This might indicate that there are\n",
       "strong multicollinearity or other numerical problems.\n",
       "\"\"\""
      ]
     },
     "execution_count": 55,
     "metadata": {},
     "output_type": "execute_result"
    }
   ],
   "source": [
    "print('### Result for Italy')\n",
    "result_italy = multiple(italy, False)\n",
    "result_italy.summary()"
   ]
  },
  {
   "cell_type": "markdown",
   "metadata": {},
   "source": [
    "#### Try: 전체 데이터로 OLS"
   ]
  },
  {
   "cell_type": "code",
   "execution_count": 59,
   "metadata": {},
   "outputs": [
    {
     "name": "stdout",
     "output_type": "stream",
     "text": [
      "### Result for Total data\n"
     ]
    },
    {
     "data": {
      "text/html": [
       "<table class=\"simpletable\">\n",
       "<caption>OLS Regression Results</caption>\n",
       "<tr>\n",
       "  <th>Dep. Variable:</th>      <td>TradeQuantity</td>  <th>  R-squared:         </th>  <td>   0.015</td>  \n",
       "</tr>\n",
       "<tr>\n",
       "  <th>Model:</th>                   <td>OLS</td>       <th>  Adj. R-squared:    </th>  <td>   0.015</td>  \n",
       "</tr>\n",
       "<tr>\n",
       "  <th>Method:</th>             <td>Least Squares</td>  <th>  F-statistic:       </th>  <td>   182.3</td>  \n",
       "</tr>\n",
       "<tr>\n",
       "  <th>Date:</th>             <td>Tue, 26 Mar 2019</td> <th>  Prob (F-statistic):</th>  <td>2.53e-117</td> \n",
       "</tr>\n",
       "<tr>\n",
       "  <th>Time:</th>                 <td>15:13:38</td>     <th>  Log-Likelihood:    </th> <td>-6.8231e+05</td>\n",
       "</tr>\n",
       "<tr>\n",
       "  <th>No. Observations:</th>      <td> 36676</td>      <th>  AIC:               </th>  <td>1.365e+06</td> \n",
       "</tr>\n",
       "<tr>\n",
       "  <th>Df Residuals:</th>          <td> 36672</td>      <th>  BIC:               </th>  <td>1.365e+06</td> \n",
       "</tr>\n",
       "<tr>\n",
       "  <th>Df Model:</th>              <td>     3</td>      <th>                     </th>      <td> </td>     \n",
       "</tr>\n",
       "<tr>\n",
       "  <th>Covariance Type:</th>      <td>nonrobust</td>    <th>                     </th>      <td> </td>     \n",
       "</tr>\n",
       "</table>\n",
       "<table class=\"simpletable\">\n",
       "<tr>\n",
       "      <td></td>         <th>coef</th>     <th>std err</th>      <th>t</th>      <th>P>|t|</th>  <th>[0.025</th>    <th>0.975]</th>  \n",
       "</tr>\n",
       "<tr>\n",
       "  <th>Intercept</th> <td> 1.441e+06</td> <td> 2.76e+05</td> <td>    5.216</td> <td> 0.000</td> <td>    9e+05</td> <td> 1.98e+06</td>\n",
       "</tr>\n",
       "<tr>\n",
       "  <th>distw</th>     <td>   99.7674</td> <td>   34.398</td> <td>    2.900</td> <td> 0.004</td> <td>   32.345</td> <td>  167.189</td>\n",
       "</tr>\n",
       "<tr>\n",
       "  <th>exp_gdp</th>   <td>-1.014e-07</td> <td> 6.97e-08</td> <td>   -1.454</td> <td> 0.146</td> <td>-2.38e-07</td> <td> 3.53e-08</td>\n",
       "</tr>\n",
       "<tr>\n",
       "  <th>imp_gdp</th>   <td> 1.355e-06</td> <td> 6.05e-08</td> <td>   22.399</td> <td> 0.000</td> <td> 1.24e-06</td> <td> 1.47e-06</td>\n",
       "</tr>\n",
       "</table>\n",
       "<table class=\"simpletable\">\n",
       "<tr>\n",
       "  <th>Omnibus:</th>       <td>147569.650</td> <th>  Durbin-Watson:     </th>     <td>   1.561</td>    \n",
       "</tr>\n",
       "<tr>\n",
       "  <th>Prob(Omnibus):</th>   <td> 0.000</td>   <th>  Jarque-Bera (JB):  </th> <td>370927618204.155</td>\n",
       "</tr>\n",
       "<tr>\n",
       "  <th>Skew:</th>            <td>103.952</td>  <th>  Prob(JB):          </th>     <td>    0.00</td>    \n",
       "</tr>\n",
       "<tr>\n",
       "  <th>Kurtosis:</th>       <td>15581.318</td> <th>  Cond. No.          </th>     <td>5.14e+12</td>    \n",
       "</tr>\n",
       "</table><br/><br/>Warnings:<br/>[1] Standard Errors assume that the covariance matrix of the errors is correctly specified.<br/>[2] The condition number is large, 5.14e+12. This might indicate that there are<br/>strong multicollinearity or other numerical problems."
      ],
      "text/plain": [
       "<class 'statsmodels.iolib.summary.Summary'>\n",
       "\"\"\"\n",
       "                            OLS Regression Results                            \n",
       "==============================================================================\n",
       "Dep. Variable:          TradeQuantity   R-squared:                       0.015\n",
       "Model:                            OLS   Adj. R-squared:                  0.015\n",
       "Method:                 Least Squares   F-statistic:                     182.3\n",
       "Date:                Tue, 26 Mar 2019   Prob (F-statistic):          2.53e-117\n",
       "Time:                        15:13:38   Log-Likelihood:            -6.8231e+05\n",
       "No. Observations:               36676   AIC:                         1.365e+06\n",
       "Df Residuals:                   36672   BIC:                         1.365e+06\n",
       "Df Model:                           3                                         \n",
       "Covariance Type:            nonrobust                                         \n",
       "==============================================================================\n",
       "                 coef    std err          t      P>|t|      [0.025      0.975]\n",
       "------------------------------------------------------------------------------\n",
       "Intercept   1.441e+06   2.76e+05      5.216      0.000       9e+05    1.98e+06\n",
       "distw         99.7674     34.398      2.900      0.004      32.345     167.189\n",
       "exp_gdp    -1.014e-07   6.97e-08     -1.454      0.146   -2.38e-07    3.53e-08\n",
       "imp_gdp     1.355e-06   6.05e-08     22.399      0.000    1.24e-06    1.47e-06\n",
       "==============================================================================\n",
       "Omnibus:                   147569.650   Durbin-Watson:                   1.561\n",
       "Prob(Omnibus):                  0.000   Jarque-Bera (JB):     370927618204.155\n",
       "Skew:                         103.952   Prob(JB):                         0.00\n",
       "Kurtosis:                   15581.318   Cond. No.                     5.14e+12\n",
       "==============================================================================\n",
       "\n",
       "Warnings:\n",
       "[1] Standard Errors assume that the covariance matrix of the errors is correctly specified.\n",
       "[2] The condition number is large, 5.14e+12. This might indicate that there are\n",
       "strong multicollinearity or other numerical problems.\n",
       "\"\"\""
      ]
     },
     "execution_count": 59,
     "metadata": {},
     "output_type": "execute_result"
    }
   ],
   "source": [
    "print('### Result for Total data')\n",
    "result_total = multiple(data, False)\n",
    "result_total.summary()"
   ]
  },
  {
   "cell_type": "markdown",
   "metadata": {},
   "source": [
    "#### Try: 30개 이상 자료가 있는 나라만 모두 넣고 분석"
   ]
  },
  {
   "cell_type": "code",
   "execution_count": 61,
   "metadata": {},
   "outputs": [
    {
     "name": "stdout",
     "output_type": "stream",
     "text": [
      "### Result for big data\n"
     ]
    },
    {
     "data": {
      "text/html": [
       "<table class=\"simpletable\">\n",
       "<caption>OLS Regression Results</caption>\n",
       "<tr>\n",
       "  <th>Dep. Variable:</th>      <td>TradeQuantity</td>  <th>  R-squared:         </th>  <td>   0.053</td>  \n",
       "</tr>\n",
       "<tr>\n",
       "  <th>Model:</th>                   <td>OLS</td>       <th>  Adj. R-squared:    </th>  <td>   0.053</td>  \n",
       "</tr>\n",
       "<tr>\n",
       "  <th>Method:</th>             <td>Least Squares</td>  <th>  F-statistic:       </th>  <td>   673.5</td>  \n",
       "</tr>\n",
       "<tr>\n",
       "  <th>Date:</th>             <td>Tue, 26 Mar 2019</td> <th>  Prob (F-statistic):</th>   <td>  0.00</td>   \n",
       "</tr>\n",
       "<tr>\n",
       "  <th>Time:</th>                 <td>15:14:14</td>     <th>  Log-Likelihood:    </th> <td>-6.4909e+05</td>\n",
       "</tr>\n",
       "<tr>\n",
       "  <th>No. Observations:</th>      <td> 36087</td>      <th>  AIC:               </th>  <td>1.298e+06</td> \n",
       "</tr>\n",
       "<tr>\n",
       "  <th>Df Residuals:</th>          <td> 36083</td>      <th>  BIC:               </th>  <td>1.298e+06</td> \n",
       "</tr>\n",
       "<tr>\n",
       "  <th>Df Model:</th>              <td>     3</td>      <th>                     </th>      <td> </td>     \n",
       "</tr>\n",
       "<tr>\n",
       "  <th>Covariance Type:</th>      <td>nonrobust</td>    <th>                     </th>      <td> </td>     \n",
       "</tr>\n",
       "</table>\n",
       "<table class=\"simpletable\">\n",
       "<tr>\n",
       "      <td></td>         <th>coef</th>     <th>std err</th>      <th>t</th>      <th>P>|t|</th>  <th>[0.025</th>    <th>0.975]</th>  \n",
       "</tr>\n",
       "<tr>\n",
       "  <th>Intercept</th> <td> 1.254e+06</td> <td> 1.51e+05</td> <td>    8.284</td> <td> 0.000</td> <td> 9.57e+05</td> <td> 1.55e+06</td>\n",
       "</tr>\n",
       "<tr>\n",
       "  <th>distw</th>     <td>   84.1028</td> <td>   18.725</td> <td>    4.491</td> <td> 0.000</td> <td>   47.401</td> <td>  120.805</td>\n",
       "</tr>\n",
       "<tr>\n",
       "  <th>exp_gdp</th>   <td>-7.248e-08</td> <td> 3.77e-08</td> <td>   -1.924</td> <td> 0.054</td> <td>-1.46e-07</td> <td> 1.36e-09</td>\n",
       "</tr>\n",
       "<tr>\n",
       "  <th>imp_gdp</th>   <td> 1.446e-06</td> <td> 3.33e-08</td> <td>   43.409</td> <td> 0.000</td> <td> 1.38e-06</td> <td> 1.51e-06</td>\n",
       "</tr>\n",
       "</table>\n",
       "<table class=\"simpletable\">\n",
       "<tr>\n",
       "  <th>Omnibus:</th>       <td>60737.036</td> <th>  Durbin-Watson:     </th>   <td>   1.771</td>  \n",
       "</tr>\n",
       "<tr>\n",
       "  <th>Prob(Omnibus):</th>  <td> 0.000</td>   <th>  Jarque-Bera (JB):  </th> <td>57287231.592</td>\n",
       "</tr>\n",
       "<tr>\n",
       "  <th>Skew:</th>           <td>11.566</td>   <th>  Prob(JB):          </th>   <td>    0.00</td>  \n",
       "</tr>\n",
       "<tr>\n",
       "  <th>Kurtosis:</th>       <td>196.815</td>  <th>  Cond. No.          </th>   <td>5.13e+12</td>  \n",
       "</tr>\n",
       "</table><br/><br/>Warnings:<br/>[1] Standard Errors assume that the covariance matrix of the errors is correctly specified.<br/>[2] The condition number is large, 5.13e+12. This might indicate that there are<br/>strong multicollinearity or other numerical problems."
      ],
      "text/plain": [
       "<class 'statsmodels.iolib.summary.Summary'>\n",
       "\"\"\"\n",
       "                            OLS Regression Results                            \n",
       "==============================================================================\n",
       "Dep. Variable:          TradeQuantity   R-squared:                       0.053\n",
       "Model:                            OLS   Adj. R-squared:                  0.053\n",
       "Method:                 Least Squares   F-statistic:                     673.5\n",
       "Date:                Tue, 26 Mar 2019   Prob (F-statistic):               0.00\n",
       "Time:                        15:14:14   Log-Likelihood:            -6.4909e+05\n",
       "No. Observations:               36087   AIC:                         1.298e+06\n",
       "Df Residuals:                   36083   BIC:                         1.298e+06\n",
       "Df Model:                           3                                         \n",
       "Covariance Type:            nonrobust                                         \n",
       "==============================================================================\n",
       "                 coef    std err          t      P>|t|      [0.025      0.975]\n",
       "------------------------------------------------------------------------------\n",
       "Intercept   1.254e+06   1.51e+05      8.284      0.000    9.57e+05    1.55e+06\n",
       "distw         84.1028     18.725      4.491      0.000      47.401     120.805\n",
       "exp_gdp    -7.248e-08   3.77e-08     -1.924      0.054   -1.46e-07    1.36e-09\n",
       "imp_gdp     1.446e-06   3.33e-08     43.409      0.000    1.38e-06    1.51e-06\n",
       "==============================================================================\n",
       "Omnibus:                    60737.036   Durbin-Watson:                   1.771\n",
       "Prob(Omnibus):                  0.000   Jarque-Bera (JB):         57287231.592\n",
       "Skew:                          11.566   Prob(JB):                         0.00\n",
       "Kurtosis:                     196.815   Cond. No.                     5.13e+12\n",
       "==============================================================================\n",
       "\n",
       "Warnings:\n",
       "[1] Standard Errors assume that the covariance matrix of the errors is correctly specified.\n",
       "[2] The condition number is large, 5.13e+12. This might indicate that there are\n",
       "strong multicollinearity or other numerical problems.\n",
       "\"\"\""
      ]
     },
     "execution_count": 61,
     "metadata": {},
     "output_type": "execute_result"
    }
   ],
   "source": [
    "print('### Result for big data')\n",
    "result_big = multiple(big_data, False)\n",
    "result_big.summary()"
   ]
  },
  {
   "cell_type": "markdown",
   "metadata": {},
   "source": [
    "## Panel Data Analysis"
   ]
  },
  {
   "cell_type": "code",
   "execution_count": 34,
   "metadata": {},
   "outputs": [],
   "source": [
    "## leaving only what I need \n",
    "big_data_need = big_data[['exporter','year','log_Q','log_dist','log_exp_gdp','log_imp_gdp']]\n",
    "data_need = data[['exporter','year','log_Q','log_dist','log_exp_gdp','log_imp_gdp']]\n",
    "\n",
    "## pivot table\n",
    "pivot_total = pd.pivot_table(data_need, index = ['exporter','year'])\n",
    "pivot_big = pd.pivot_table(big_data_need, index = ['exporter','year'])"
   ]
  },
  {
   "cell_type": "code",
   "execution_count": 42,
   "metadata": {},
   "outputs": [],
   "source": [
    "def panel(Data):\n",
    "    from linearmodels import PanelOLS\n",
    "    mod_ = PanelOLS(Data.log_Q, Data[['log_dist','log_exp_gdp','log_imp_gdp']],entity_effects=True)\n",
    "    res = mod_.fit(cov_type='clustered', cluster_entity=True)\n",
    "    \n",
    "    return res"
   ]
  },
  {
   "cell_type": "code",
   "execution_count": null,
   "metadata": {},
   "outputs": [],
   "source": []
  },
  {
   "cell_type": "markdown",
   "metadata": {},
   "source": [
    "### Analysis with total data"
   ]
  },
  {
   "cell_type": "code",
   "execution_count": 43,
   "metadata": {},
   "outputs": [],
   "source": [
    "panel_total = panel(pivot_big)"
   ]
  },
  {
   "cell_type": "code",
   "execution_count": 44,
   "metadata": {},
   "outputs": [
    {
     "data": {
      "text/html": [
       "<table class=\"simpletable\">\n",
       "<caption>PanelOLS Estimation Summary</caption>\n",
       "<tr>\n",
       "  <th>Dep. Variable:</th>          <td>log_Q</td>      <th>  R-squared:         </th>    <td>0.0687</td>  \n",
       "</tr>\n",
       "<tr>\n",
       "  <th>Estimator:</th>            <td>PanelOLS</td>     <th>  R-squared (Between):</th>   <td>-4.6435</td> \n",
       "</tr>\n",
       "<tr>\n",
       "  <th>No. Observations:</th>       <td>1976</td>       <th>  R-squared (Within):</th>    <td>0.0687</td>  \n",
       "</tr>\n",
       "<tr>\n",
       "  <th>Date:</th>             <td>Tue, Mar 26 2019</td> <th>  R-squared (Overall):</th>   <td>-4.5673</td> \n",
       "</tr>\n",
       "<tr>\n",
       "  <th>Time:</th>                 <td>14:48:14</td>     <th>  Log-likelihood     </th>    <td>-3654.9</td> \n",
       "</tr>\n",
       "<tr>\n",
       "  <th>Cov. Estimator:</th>       <td>Clustered</td>    <th>                     </th>       <td></td>     \n",
       "</tr>\n",
       "<tr>\n",
       "  <th></th>                          <td></td>         <th>  F-statistic:       </th>    <td>46.062</td>  \n",
       "</tr>\n",
       "<tr>\n",
       "  <th>Entities:</th>                <td>99</td>        <th>  P-value            </th>    <td>0.0000</td>  \n",
       "</tr>\n",
       "<tr>\n",
       "  <th>Avg Obs:</th>               <td>19.960</td>      <th>  Distribution:      </th>   <td>F(3,1874)</td>\n",
       "</tr>\n",
       "<tr>\n",
       "  <th>Min Obs:</th>               <td>5.0000</td>      <th>                     </th>       <td></td>     \n",
       "</tr>\n",
       "<tr>\n",
       "  <th>Max Obs:</th>               <td>25.000</td>      <th>  F-statistic (robust):</th>  <td>14.352</td>  \n",
       "</tr>\n",
       "<tr>\n",
       "  <th></th>                          <td></td>         <th>  P-value            </th>    <td>0.0000</td>  \n",
       "</tr>\n",
       "<tr>\n",
       "  <th>Time periods:</th>            <td>25</td>        <th>  Distribution:      </th>   <td>F(3,1874)</td>\n",
       "</tr>\n",
       "<tr>\n",
       "  <th>Avg Obs:</th>               <td>79.040</td>      <th>                     </th>       <td></td>     \n",
       "</tr>\n",
       "<tr>\n",
       "  <th>Min Obs:</th>               <td>29.000</td>      <th>                     </th>       <td></td>     \n",
       "</tr>\n",
       "<tr>\n",
       "  <th>Max Obs:</th>               <td>92.000</td>      <th>                     </th>       <td></td>     \n",
       "</tr>\n",
       "<tr>\n",
       "  <th></th>                          <td></td>         <th>                     </th>       <td></td>     \n",
       "</tr>\n",
       "</table>\n",
       "<table class=\"simpletable\">\n",
       "<caption>Parameter Estimates</caption>\n",
       "<tr>\n",
       "       <td></td>       <th>Parameter</th> <th>Std. Err.</th> <th>T-stat</th>  <th>P-value</th> <th>Lower CI</th> <th>Upper CI</th>\n",
       "</tr>\n",
       "<tr>\n",
       "  <th>log_dist</th>     <td>-0.8819</td>   <td>0.2087</td>   <td>-4.2249</td> <td>0.0000</td>   <td>-1.2913</td>  <td>-0.4725</td>\n",
       "</tr>\n",
       "<tr>\n",
       "  <th>log_exp_gdp</th>  <td>-0.6664</td>   <td>0.1582</td>   <td>-4.2125</td> <td>0.0000</td>   <td>-0.9766</td>  <td>-0.3561</td>\n",
       "</tr>\n",
       "<tr>\n",
       "  <th>log_imp_gdp</th>  <td>0.3702</td>    <td>0.0875</td>   <td>4.2291</td>  <td>0.0000</td>   <td>0.1985</td>   <td>0.5418</td> \n",
       "</tr>\n",
       "</table><br/><br/>F-test for Poolability: 38.980<br/>P-value: 0.0000<br/>Distribution: F(98,1874)<br/><br/>Included effects: Entity<br/>id: 0x1c47fb90470"
      ],
      "text/plain": [
       "                          PanelOLS Estimation Summary                           \n",
       "================================================================================\n",
       "Dep. Variable:                  log_Q   R-squared:                        0.0687\n",
       "Estimator:                   PanelOLS   R-squared (Between):             -4.6435\n",
       "No. Observations:                1976   R-squared (Within):               0.0687\n",
       "Date:                Tue, Mar 26 2019   R-squared (Overall):             -4.5673\n",
       "Time:                        14:48:14   Log-likelihood                   -3654.9\n",
       "Cov. Estimator:             Clustered                                           \n",
       "                                        F-statistic:                      46.062\n",
       "Entities:                          99   P-value                           0.0000\n",
       "Avg Obs:                       19.960   Distribution:                  F(3,1874)\n",
       "Min Obs:                       5.0000                                           \n",
       "Max Obs:                       25.000   F-statistic (robust):             14.352\n",
       "                                        P-value                           0.0000\n",
       "Time periods:                      25   Distribution:                  F(3,1874)\n",
       "Avg Obs:                       79.040                                           \n",
       "Min Obs:                       29.000                                           \n",
       "Max Obs:                       92.000                                           \n",
       "                                                                                \n",
       "                              Parameter Estimates                              \n",
       "===============================================================================\n",
       "             Parameter  Std. Err.     T-stat    P-value    Lower CI    Upper CI\n",
       "-------------------------------------------------------------------------------\n",
       "log_dist       -0.8819     0.2087    -4.2249     0.0000     -1.2913     -0.4725\n",
       "log_exp_gdp    -0.6664     0.1582    -4.2125     0.0000     -0.9766     -0.3561\n",
       "log_imp_gdp     0.3702     0.0875     4.2291     0.0000      0.1985      0.5418\n",
       "===============================================================================\n",
       "\n",
       "F-test for Poolability: 38.980\n",
       "P-value: 0.0000\n",
       "Distribution: F(98,1874)\n",
       "\n",
       "Included effects: Entity\n",
       "PanelEffectsResults, id: 0x1c47fb90470"
      ]
     },
     "execution_count": 44,
     "metadata": {},
     "output_type": "execute_result"
    }
   ],
   "source": [
    "panel_total"
   ]
  },
  {
   "cell_type": "code",
   "execution_count": null,
   "metadata": {},
   "outputs": [],
   "source": []
  }
 ],
 "metadata": {
  "kernelspec": {
   "display_name": "Python 3",
   "language": "python",
   "name": "python3"
  },
  "language_info": {
   "codemirror_mode": {
    "name": "ipython",
    "version": 3
   },
   "file_extension": ".py",
   "mimetype": "text/x-python",
   "name": "python",
   "nbconvert_exporter": "python",
   "pygments_lexer": "ipython3",
   "version": "3.7.1"
  }
 },
 "nbformat": 4,
 "nbformat_minor": 2
}
