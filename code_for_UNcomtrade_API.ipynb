{
 "cells": [
  {
   "cell_type": "code",
   "execution_count": 1,
   "metadata": {},
   "outputs": [],
   "source": [
    "import requests\n",
    "import json\n",
    "import urllib.request\n",
    "import pandas as pd\n",
    "import sys"
   ]
  },
  {
   "cell_type": "code",
   "execution_count": 2,
   "metadata": {},
   "outputs": [],
   "source": [
    "##country_code_setting\n",
    "def country_code_setting(by_code = True):\n",
    "    base_url = 'https://comtrade.un.org/data/cache/reporterAreas.json'\n",
    "    r = requests.get(base_url)\n",
    "    js = json.loads(r.text)\n",
    "    \n",
    "    countries = {}\n",
    "    \n",
    "    if by_code:\n",
    "        for lst in js['results']:\n",
    "            countries[lst['id']] = lst['text']\n",
    "    else:\n",
    "        for lst in js['results']:\n",
    "            countries[lst['text']] = lst['id']\n",
    "        \n",
    "    return countries\n",
    "\n",
    "    "
   ]
  },
  {
   "cell_type": "code",
   "execution_count": 3,
   "metadata": {},
   "outputs": [],
   "source": [
    "classification_json = {\n",
    "    #good default\n",
    "    'HS': 'https://comtrade.un.org/data/cache/classificationHS.json',\n",
    "    \n",
    "    'H0': 'https://comtrade.un.org/data/cache/classificationH0.json',\n",
    "    'H1':'https://comtrade.un.org/data/cache/classificationH1.json',\n",
    "    'H2': 'https://comtrade.un.org/data/cache/classificationH2.json',\n",
    "    'H3': 'https://comtrade.un.org/data/cache/classificationH3.json',\n",
    "    'H4': 'https://comtrade.un.org/data/cache/classificationH4.json',\n",
    "    'ST': 'https://comtrade.un.org/data/cache/classificationST.json',\n",
    "    'S1':'https://comtrade.un.org/data/cache/classificationS1.json',\n",
    "    'S2':'https://comtrade.un.org/data/cache/classificationS2.json',\n",
    "    'S3':'https://comtrade.un.org/data/cache/classificationS3.json',\n",
    "    'S4':'https://comtrade.un.org/data/cache/classificationS4.json',\n",
    "    'BEC': 'https://comtrade.un.org/data/cache/classificationBEC.json',\n",
    "    \n",
    "    #service default\n",
    "    'EB02': 'https://comtrade.un.org/data/cache/classificationEB02.json'\n",
    "    \n",
    "}"
   ]
  },
  {
   "cell_type": "code",
   "execution_count": 5,
   "metadata": {},
   "outputs": [],
   "source": [
    "def get_class_info(classification_url = classification_json['HS']):\n",
    "    r = requests.get(classification_url)\n",
    "    js = json.loads(r.text)\n",
    "    \n",
    "    class_info = {}\n",
    "    \n",
    "    for info in js['results']:\n",
    "        class_info[info['id']] = {'text':info['text'], 'parent':info['parent']}\n",
    "    \n",
    "    \n",
    "    return class_info"
   ]
  },
  {
   "cell_type": "code",
   "execution_count": 6,
   "metadata": {},
   "outputs": [],
   "source": [
    "def UN_availability(data_type, frequency, reporting_area, time_period, classification):\n",
    "    base_url = 'http://comtrade.un.org/api//refs/da/view?'\n",
    "    \n",
    "    ##조건\n",
    "    parameters = {'type': data_type,\n",
    "                 'freq' : frequency,\n",
    "                 'r' : reporting_area,\n",
    "                 'ps' : time_period,\n",
    "                 'px': classification}\n",
    "    \n",
    "    url = base_url + dict_to_string(parameters)\n",
    "    print('url :', url)\n",
    "    \n",
    "    r = requests.get(url)\n",
    "    html = r.text\n",
    "    js = json.loads(html)\n",
    "    \n",
    "    return js \n"
   ]
  },
  {
   "cell_type": "code",
   "execution_count": 7,
   "metadata": {},
   "outputs": [],
   "source": [
    "def dict_item_to_string(key, value):\n",
    "    \"\"\"\n",
    "    inputs: key-value pairs from a dictionary\n",
    "    output: string 'key=value' or 'key=value1,value2' (if value is a list)\n",
    "    examples: 'fmt', 'csv' => 'fmt=csv' or 'r', [124, 484] => 'r=124,484'\n",
    "    \"\"\"\n",
    "    value_string = str(value) if not isinstance(value, list) else ','.join(map(str, value))\n",
    "    return '='.join([key, value_string])\n",
    "\n",
    "\n",
    "def dict_to_string(parameters):\n",
    "    \"\"\"\n",
    "    input: dictionary of parameters\n",
    "    output: string 'key1=value1&key2=value2&...'\n",
    "    \"\"\"\n",
    "    param =[]\n",
    "    for key, value in parameters.items():\n",
    "        if value != 'any':\n",
    "            param.append(dict_item_to_string(key, value))\n",
    "    return '&'.join(param)\n",
    "\n",
    "\n",
    "country_code_byCode = country_code_setting(True)\n",
    "country_code_byLetter = country_code_setting(False)\n"
   ]
  },
  {
   "cell_type": "code",
   "execution_count": 8,
   "metadata": {},
   "outputs": [],
   "source": [
    "def UN_comtrade(human_readable=False, verbose=True,\n",
    "    period='recent', frequency='A', reporter=842, partner='all', product='total', tradeflow=2):\n",
    "       \n",
    "    base_url = 'https://comtrade.un.org/api/get?'\n",
    "    \n",
    "    ##조건\n",
    "    fmt = 'csv' if human_readable else 'json'\n",
    "    head = 'H' if human_readable else 'M'\n",
    "    \n",
    "    if type(reporter) == str:\n",
    "        reporter = country_code_byLetter[reporter]\n",
    "    \n",
    "    parameters = {\n",
    "            'ps': period,\n",
    "            'freq': frequency,\n",
    "            'r': reporter,\n",
    "            'p': partner,\n",
    "            'cc': product,\n",
    "            'rg': tradeflow,\n",
    "            'px': 'HS',      # Harmonized System (as reported) as classification scheme\n",
    "            'type': 'C',     # Commodities ('S' for Services)\n",
    "            'fmt': fmt,      # format of the output\n",
    "            'max': 50000,    # maximum number of rows -> what happens if number of rows is bigger?\n",
    "                             # https://comtrade.un.org/data/dev/portal#subscription says it is 100 000\n",
    "            'head': head     # human readable headings ('H') or machine readable headings ('M')\n",
    "        }\n",
    "    \n",
    "    url = base_url + dict_to_string(parameters)\n",
    "    print('url :', url)\n",
    "    \n",
    "    r = requests.get(url)\n",
    "    html = r.text\n",
    "    js = json.loads(html)\n",
    "    \n",
    "    if js['validation']['message']:\n",
    "        print(js['validation']['message'])\n",
    "    \n",
    "    print('\\n# of data is', js['validation']['count']['value'])\n",
    "    \n",
    "    return js \n"
   ]
  },
  {
   "cell_type": "code",
   "execution_count": 9,
   "metadata": {},
   "outputs": [],
   "source": [
    "def dict_item_to_string(key, value):\n",
    "    \"\"\"\n",
    "    inputs: key-value pairs from a dictionary\n",
    "    output: string 'key=value' or 'key=value1,value2' (if value is a list)\n",
    "    examples: 'fmt', 'csv' => 'fmt=csv' or 'r', [124, 484] => 'r=124,484'\n",
    "    \"\"\"\n",
    "    value_string = str(value) if not isinstance(value, list) else ','.join(map(str, value))\n",
    "    return '='.join([key, value_string])\n",
    "\n",
    "\n",
    "def dict_to_string(parameters):\n",
    "    \"\"\"\n",
    "    input: dictionary of parameters\n",
    "    output: string 'key1=value1&key2=value2&...'\n",
    "    \"\"\"\n",
    "    return '&'.join(dict_item_to_string(key, value) for key, value in parameters.items())"
   ]
  },
  {
   "cell_type": "code",
   "execution_count": null,
   "metadata": {},
   "outputs": [],
   "source": []
  },
  {
   "cell_type": "code",
   "execution_count": null,
   "metadata": {},
   "outputs": [],
   "source": []
  },
  {
   "cell_type": "code",
   "execution_count": null,
   "metadata": {},
   "outputs": [],
   "source": []
  },
  {
   "cell_type": "code",
   "execution_count": 10,
   "metadata": {},
   "outputs": [],
   "source": [
    "from time import sleep"
   ]
  },
  {
   "cell_type": "code",
   "execution_count": null,
   "metadata": {},
   "outputs": [],
   "source": []
  },
  {
   "cell_type": "code",
   "execution_count": null,
   "metadata": {},
   "outputs": [],
   "source": []
  },
  {
   "cell_type": "markdown",
   "metadata": {},
   "source": [
    "### UN library default\n",
    "함수\n",
    "1. UN_availability   \n",
    "*변수: data_type, frequency, reporting_area, time_period, classification\n",
    "  \n",
    " \n",
    "2. UN_comtrade  \n",
    "*human_readable=False, verbose=True,\n",
    "    period='recent', frequency='A', reporter=842, partner='all', product='total', tradeflow=2"
   ]
  },
  {
   "cell_type": "code",
   "execution_count": 12,
   "metadata": {},
   "outputs": [],
   "source": [
    "##country_code_setting\n",
    "country_code_byCode = country_code_setting(True)\n",
    "country_code_byLetter = country_code_setting(False)\n",
    "\n",
    "\n",
    "#HS classification call\n",
    "HS = get_class_info()"
   ]
  },
  {
   "cell_type": "code",
   "execution_count": null,
   "metadata": {},
   "outputs": [],
   "source": []
  },
  {
   "cell_type": "code",
   "execution_count": null,
   "metadata": {},
   "outputs": [],
   "source": []
  },
  {
   "cell_type": "markdown",
   "metadata": {},
   "source": [
    "## Extracting coffee trade data\n",
    "#### HS code  \n",
    "1. 생두( not roasted or decaffeinated ): 090111  \n",
    "2. roasted( roasted, not decaffeinated ): 090121"
   ]
  },
  {
   "cell_type": "code",
   "execution_count": 13,
   "metadata": {},
   "outputs": [],
   "source": [
    "def UN_comtrade(human_readable=False, verbose=True,\n",
    "    period='recent', frequency='A', reporter=842, partner='all', product='total', tradeflow=2):\n",
    "    \n",
    "    global country_code_byLetter\n",
    "    base_url = 'https://comtrade.un.org/api/get?'\n",
    "    \n",
    "    ##조건\n",
    "    fmt = 'csv' if human_readable else 'json'\n",
    "    head = 'H' if human_readable else 'M'\n",
    "    \n",
    "    if type(reporter) == str:\n",
    "        reporter = country_code_byLetter[reporter]\n",
    "    \n",
    "    parameters = {\n",
    "            'ps': period,\n",
    "            'freq': frequency,\n",
    "            'r': reporter,\n",
    "            'p': partner,\n",
    "            'cc': product,\n",
    "            'rg': tradeflow,\n",
    "            'px': 'HS',      # Harmonized System (as reported) as classification scheme\n",
    "            'type': 'C',     # Commodities ('S' for Services)\n",
    "            'fmt': fmt,      # format of the output\n",
    "            'max': 50000,    # maximum number of rows -> what happens if number of rows is bigger?\n",
    "                             # https://comtrade.un.org/data/dev/portal#subscription says it is 100 000\n",
    "            'head': head     # human readable headings ('H') or machine readable headings ('M')\n",
    "        }\n",
    "    \n",
    "    url = base_url + dict_to_string(parameters)\n",
    "    print('url :', url)\n",
    "    \n",
    "    r = requests.get(url)\n",
    "    html = r.text\n",
    "    js = json.loads(html)\n",
    "    \n",
    "    if js['validation']['message']:\n",
    "        print(js['validation']['message'])\n",
    "    \n",
    "    print('\\n# of data is', js['validation']['count']['value'])\n",
    "    \n",
    "    return js "
   ]
  },
  {
   "cell_type": "code",
   "execution_count": 14,
   "metadata": {},
   "outputs": [],
   "source": [
    "##data: 1991 ~ 2017\n",
    "annual_list = list(range(1991, 2018))"
   ]
  },
  {
   "cell_type": "code",
   "execution_count": 15,
   "metadata": {},
   "outputs": [],
   "source": [
    "countries = list(country_code_byLetter.keys())[1:]"
   ]
  },
  {
   "cell_type": "code",
   "execution_count": null,
   "metadata": {},
   "outputs": [],
   "source": []
  },
  {
   "cell_type": "markdown",
   "metadata": {},
   "source": [
    "### 수출 모으기\n",
    "#### Firstly, 생두"
   ]
  },
  {
   "cell_type": "code",
   "execution_count": 16,
   "metadata": {},
   "outputs": [],
   "source": [
    "##df 기본틀 세우기\n",
    "bean_export = pd.DataFrame()"
   ]
  },
  {
   "cell_type": "code",
   "execution_count": 17,
   "metadata": {},
   "outputs": [],
   "source": [
    "###수출국 모으기\n",
    "exporters = {}\n",
    "\n",
    "for time in annual_list:\n",
    "    exporters[time] = set()\n"
   ]
  },
  {
   "cell_type": "code",
   "execution_count": 18,
   "metadata": {},
   "outputs": [],
   "source": [
    "errors = []"
   ]
  },
  {
   "cell_type": "code",
   "execution_count": null,
   "metadata": {
    "scrolled": true
   },
   "outputs": [],
   "source": [
    "for ctr in range(len(countries)):\n",
    "    print('\\n********country: ',countries[ctr])\n",
    "\n",
    "    for time in annual_list:\n",
    "        try:\n",
    "            temp = UN_comtrade(reporter = countries[ctr], product = '090111', period = time, tradeflow = 2)\n",
    "\n",
    "            if temp['validation']['count']['value'] > 0:\n",
    "                exporters[time].update([countries[ctr]])\n",
    "\n",
    "            bean_export = pd.concat([bean_export, pd.DataFrame(temp['dataset'])])\n",
    "\n",
    "            sleep(40)\n",
    "        except:\n",
    "            print('#################ERROR###################### ======>  country: {},  time: {}'.format(countries[ctr], time))\n",
    "            errors.append([countries[ctr], time])\n",
    "            sleep(40)\n",
    "        \n",
    "    if ctr % 10 == 0:\n",
    "        bean_export.to_csv('afterStop_bean_export{}.csv'.format(ctr))\n",
    "        print('######SAVED#####       ctr: '.format(ctr))"
   ]
  },
  {
   "cell_type": "code",
   "execution_count": null,
   "metadata": {},
   "outputs": [],
   "source": []
  }
 ],
 "metadata": {
  "kernelspec": {
   "display_name": "Python 3",
   "language": "python",
   "name": "python3"
  },
  "language_info": {
   "codemirror_mode": {
    "name": "ipython",
    "version": 3
   },
   "file_extension": ".py",
   "mimetype": "text/x-python",
   "name": "python",
   "nbconvert_exporter": "python",
   "pygments_lexer": "ipython3",
   "version": "3.7.4"
  }
 },
 "nbformat": 4,
 "nbformat_minor": 2
}
